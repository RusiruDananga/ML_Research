{
 "cells": [
  {
   "cell_type": "code",
   "execution_count": 11,
   "metadata": {},
   "outputs": [],
   "source": [
    "import pandas as pd\n",
    "import networkx as nx\n",
    "from sentence_transformers import SentenceTransformer\n",
    "from sklearn.metrics.pairwise import cosine_similarity\n",
    "import numpy as np\n",
    "import pickle"
   ]
  },
  {
   "cell_type": "code",
   "execution_count": 2,
   "metadata": {},
   "outputs": [],
   "source": [
    "# Load the chunked legal cases dataset\n",
    "chunked_cases_df = pd.read_csv(\"chunked_law_cases.csv\")"
   ]
  },
  {
   "cell_type": "code",
   "execution_count": 3,
   "metadata": {},
   "outputs": [],
   "source": [
    "# Initialize graph\n",
    "G = nx.DiGraph()"
   ]
  },
  {
   "cell_type": "code",
   "execution_count": 4,
   "metadata": {},
   "outputs": [],
   "source": [
    "# Load a sentence embedding model\n",
    "model = SentenceTransformer(\"all-MiniLM-L6-v2\")"
   ]
  },
  {
   "cell_type": "code",
   "execution_count": 5,
   "metadata": {},
   "outputs": [],
   "source": [
    "# Create node embeddings\n",
    "chunk_embeddings = model.encode(chunked_cases_df[\"text\"].tolist(), convert_to_tensor=True)"
   ]
  },
  {
   "cell_type": "code",
   "execution_count": 6,
   "metadata": {},
   "outputs": [],
   "source": [
    "# Add nodes to the graph\n",
    "for index, row in chunked_cases_df.iterrows():\n",
    "    G.add_node(row[\"chunk_id\"], text=row[\"text\"], embedding=chunk_embeddings[index])"
   ]
  },
  {
   "cell_type": "code",
   "execution_count": 7,
   "metadata": {},
   "outputs": [],
   "source": [
    "# Establish logical dependencies between chunks\n",
    "for i, row in chunked_cases_df.iterrows():\n",
    "    current_embedding = chunk_embeddings[i].cpu().numpy()\n",
    "    similarities = cosine_similarity([current_embedding], chunk_embeddings.cpu().numpy())[0]\n",
    "    \n",
    "    # Find the top related chunks (excluding itself)\n",
    "    top_related = np.argsort(similarities)[-6:-1]  # Get top 5 similar chunks\n",
    "    \n",
    "    for related_index in top_related:\n",
    "        related_chunk_id = chunked_cases_df.iloc[related_index][\"chunk_id\"]\n",
    "        G.add_edge(row[\"chunk_id\"], related_chunk_id, weight=similarities[related_index])"
   ]
  },
  {
   "cell_type": "code",
   "execution_count": 12,
   "metadata": {},
   "outputs": [],
   "source": [
    "# Save graph using pickle (more suitable for complex objects)\n",
    "with open(\"../data/processed/logical_reasoning/graph_data.pkl\", \"wb\") as f:\n",
    "    pickle.dump(G, f)"
   ]
  }
 ],
 "metadata": {
  "kernelspec": {
   "display_name": "Python 3",
   "language": "python",
   "name": "python3"
  },
  "language_info": {
   "codemirror_mode": {
    "name": "ipython",
    "version": 3
   },
   "file_extension": ".py",
   "mimetype": "text/x-python",
   "name": "python",
   "nbconvert_exporter": "python",
   "pygments_lexer": "ipython3",
   "version": "3.12.4"
  }
 },
 "nbformat": 4,
 "nbformat_minor": 2
}
