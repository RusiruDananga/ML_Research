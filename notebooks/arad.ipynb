{
 "cells": [
  {
   "cell_type": "code",
   "execution_count": 24,
   "id": "f19aa653",
   "metadata": {},
   "outputs": [],
   "source": [
    "import pandas as pd\n",
    "import networkx as nx\n",
    "from sentence_transformers import SentenceTransformer, util\n",
    "from sklearn.metrics.pairwise import cosine_similarity\n",
    "import numpy as np\n",
    "import pickle\n",
    "import joblib\n",
    "import spacy\n",
    "from sympy import symbols, Implies\n",
    "import faiss\n",
    "import torch\n",
    "from langchain_ollama import OllamaLLM\n",
    "from tqdm import tqdm\n",
    "import time\n",
    "import evaluate\n",
    "import psutil\n",
    "from collections import Counter\n",
    "from rouge_score import rouge_scorer\n",
    "from bert_score import score as bert_score\n",
    "from sentence_transformers.util import cos_sim\n",
    "from rouge import Rouge\n",
    "import matplotlib.pyplot as plt"
   ]
  },
  {
   "cell_type": "code",
   "execution_count": 3,
   "id": "5b83894a",
   "metadata": {},
   "outputs": [],
   "source": [
    "# Load data\n",
    "qa_df = pd.read_csv(\"../data/processed/Questions & Answers.csv\")"
   ]
  },
  {
   "cell_type": "code",
   "execution_count": 4,
   "id": "a7606e23",
   "metadata": {},
   "outputs": [],
   "source": [
    "# Load the chunked legal cases dataset\n",
    "chunked_cases_df = pd.read_csv(\"chunked_law_cases.csv\")"
   ]
  },
  {
   "cell_type": "code",
   "execution_count": 5,
   "id": "9546772e",
   "metadata": {},
   "outputs": [],
   "source": [
    "# Use a SentenceTransformer to embed legal chunks and questions\n",
    "embedder = SentenceTransformer(\"all-MiniLM-L6-v2\")"
   ]
  },
  {
   "cell_type": "code",
   "execution_count": 6,
   "id": "17a20e54",
   "metadata": {},
   "outputs": [],
   "source": [
    "# Generate embeddings for the text chunks\n",
    "chunk_texts = chunked_cases_df[\"text\"].tolist()\n",
    "chunk_embeddings = embedder.encode(chunk_texts, convert_to_tensor=True)"
   ]
  },
  {
   "cell_type": "code",
   "execution_count": 7,
   "id": "92f012fb",
   "metadata": {},
   "outputs": [],
   "source": [
    "# Instantiate the LLaMA model\n",
    "llm = OllamaLLM(model=\"llama3.1\")"
   ]
  },
  {
   "cell_type": "code",
   "execution_count": 17,
   "id": "d2270838",
   "metadata": {},
   "outputs": [],
   "source": [
    "def multi_hop_arad(question, k=5, max_hops=2):\n",
    "    # Step 1: Embed the question\n",
    "    question_embedding = embedder.encode(question, convert_to_tensor=True)\n",
    "\n",
    "    # Step 2: Retrieve top-k chunks (First Hop)\n",
    "    similarities = cos_sim(question_embedding, chunk_embeddings)[0]\n",
    "    top_k_indices = torch.topk(similarities, k).indices.tolist()\n",
    "    context = \" \".join(chunked_cases_df.iloc[i][\"text\"] for i in top_k_indices)\n",
    "\n",
    "    full_context = context  # Store first hop result\n",
    "\n",
    "    # Step 3: (Optional) Multi-Hop: Re-query with answer draft\n",
    "    if max_hops > 1:\n",
    "        prompt = f\"Question: {question}\\nRelevant Law Context: {context}\\nAnswer:\"\n",
    "        intermediate_answer = llm.invoke(prompt)\n",
    "\n",
    "        # Embed intermediate answer\n",
    "        answer_embedding = embedder.encode(intermediate_answer, convert_to_tensor=True)\n",
    "        new_similarities = cos_sim(answer_embedding, chunk_embeddings)[0]\n",
    "        new_indices = torch.topk(new_similarities, k).indices.tolist()\n",
    "        second_hop_context = \" \".join(chunked_cases_df.iloc[i][\"text\"] for i in new_indices)\n",
    "\n",
    "        full_context += \"\\n\" + second_hop_context\n",
    "\n",
    "    # Final prompt\n",
    "    final_prompt = f\"Question: {question}\\n\\nContext:\\n{full_context}\\n\\nAnswer:\"\n",
    "\n",
    "    # Track CPU and time\n",
    "    cpu_before = psutil.cpu_percent(interval=None)\n",
    "    start_time = time.time()\n",
    "\n",
    "    answer = llm.invoke(final_prompt)\n",
    "\n",
    "    elapsed_time = time.time() - start_time\n",
    "    cpu_after = psutil.cpu_percent(interval=None)\n",
    "\n",
    "    return {\n",
    "        \"question\": question,\n",
    "        \"context\": full_context,\n",
    "        \"answer\": answer,\n",
    "        \"response_time\": elapsed_time,\n",
    "        \"cpu_usage\": cpu_after\n",
    "    }"
   ]
  },
  {
   "cell_type": "code",
   "execution_count": 18,
   "id": "e637d5a0",
   "metadata": {},
   "outputs": [
    {
     "name": "stdout",
     "output_type": "stream",
     "text": [
      "How does the Supreme Court differentiate between an interlocutory order and a final order in civil appeals?\n"
     ]
    }
   ],
   "source": [
    "print(qa_df.iloc[0][\"question\"])"
   ]
  },
  {
   "cell_type": "code",
   "execution_count": 19,
   "id": "4efc0d13",
   "metadata": {},
   "outputs": [
    {
     "data": {
      "text/plain": [
       "{'question': 'How does the Supreme Court differentiate between an interlocutory order and a final order in civil appeals?',\n",
       " 'context': 'the other hand, if their decision, if given in one way, will finally\\ndispose of the matter in dispute, but, if given in the other, will\\nallow the action to go on, then I think it is not final, but\\ninterlocutory.”\\nIn Salaman v Warner (supra), Fry, L.J., also had expressed his views regarding an appropriate\\ninterpretation that had to be given to final and interlocutory decisions. Considering the\\ndifficulties that had been raised regarding the correct interpretation for final and\\n15interlocutory orders, it was stated that the attention must be given to the object of the\\ndistinction drawn in the rules between interlocutory and final orders on the basis of the time\\nfor appealing. Fry, L.J. had accordingly stated thus:\\n“I think that the true definition is this. I conceive that an order\\nis “final” only where it is made upon an application or other\\nproceeding which must, whether such application or other\\nproceeding fail or succeed, determine the action. Conversely I\\nthink that an order is “interlocutory” where it cannot be\\naffirmed that in either event the action will be determined.”\\nConsidering all the decisions referred to above, the aforesaid statement clearly has expressed\\nthe true meaning that could be given to a judgment and an order in terms of section 754(5) of\\nthe Civil Procedure Code.\\nThe order made by the Additional District Judge on 14.05.2008, was in terms of section 46(2)\\nof the Civil Procedure Code and it is not disputed that the rights of the parties were not\\nconsidered by the District Court. In such circumstances it would not be probable to state that\\nthe said order made by the District Court had finally settled the litigation between the\\nappellants and the plaintiff. Considering the circumstances of the appeals it is abundantly\\nclear that at the time the said order was made by the District Court, the litigation among the\\nparties had just begun as the plaintiff as a Trustee of the ‘Puthiya Sri Kathiravelayuthan Swami\\nKovil’ and its temporalities had instituted action before the District Court of Colombo, seeking\\ninter alia,\\n1. the appointment of Receiver under section 671 of the Civil Procedure Code for the\\npreservation and maintenance of the Trust property; hand, if their decision, if given in one way, will finally dispose of\\nthe matter in dispute, but, if given in the other, will allow the\\naction to go on, then I think it is not final, but interlocutory.”\\nIn Salaman v Warner (supra), Fry, L.J., also had expressed his views regarding an appropriate\\ninterpretation that had to be given to final and interlocutory decisions. Considering the\\ndifficulties that had been raised regarding the correct interpretation for final and interlocutory\\norders, it was stated that the attention must be given to the object of the distinction drawn in\\n14the rules between interlocutory and final orders on the basis of the time for appealing. Fry,\\nL.J. had accordingly stated thus:\\n“I think that the true definition is this. I conceive that an order is\\n“final” only where it is made upon an application or other\\nproceeding which must, whether such application or other\\nproceeding fail or succeed, determine the action. Conversely I\\nthink that an order is “interlocutory” where it cannot be\\naffirmed that in either event the action will be determined.”\\nConsidering all the decisions referred to above, the aforesaid statement clearly has expressed\\nthe true meaning that could be given to a judgment and an order in terms of section 754(5) of\\nthe Civil Procedure Code.\\nThe order made by the Additional District Judge on 14.05.2008, was in terms of section 46(2)\\nof the Civil Procedure Code and it is not disputed that the rights of the parties were not\\nconsidered by the District Court. In such circumstances it would not be probable to state that\\nthe said order made by the District Court had finally settled the litigation between the\\nappellants and the plaintiff. Considering the circumstances of the appeals it is abundantly\\nclear that at the time the said order was made by the District Court, the litigation among the\\nparties had just begun as the plaintiff as a Trustee of the ‘Puthiya Sri Kathiravelayuthan Swami\\nKovil’ and its temporalities had instituted action before the District Court of Colombo, seeking\\ninter alia,\\n1. the appointment of Receiver under section 671 of the Civil Procedure Code for the\\npreservation and maintenance of the Trust property; of the Supreme Court) held:\\nIn order to decide whether an order is a final judgment or\\nnot, it is my considered view that the proper approach is the\\napproach adopted by Lord Esher in Salamam v. Warner\\n[1891] 1 QB 734, which was cited with approval by Lord\\nDenning in Salter Rex & Co. v. Ghosh [1971] 2 QB 597. It\\nstated: “If their decision, whichever way it is given, will, if it\\nstands, finally dispose of the matter in dispute, I think that\\nfor that purpose of these Rules it is final. On the other\\nhand, if their decision, if given in one way, will finally\\ndispose of the matter in dispute, but, if given in the other,\\nwill allow the action to go on, then I think it is not final, but\\ninterlocutory.”\\nIt is abundantly clear that an appeal does not lie against the\\nimpugned order of the Commercial High Court whereby the\\nCommercial High Court only rejected the application of the 1st\\nDefendant made by way of a motion to allow the 1st Defendant to\\nfile papers to set aside the ex parte decree. There is no necessity\\nto apply the decision in Chettiar’s case to this case. The order of\\nthe Commercial High Court is prima facie interlocutory and not\\nfinal.10\\nAt the time of the impugned order, the Supreme Court had\\nalready delivered the final Judgment on the merits of the case.\\nBut let us assume that the rights of the parties had not been\\ndecided by the Supreme Court at that time. Then, if the\\nCommercial High Court allowed the application of the 1st\\nDefendant to file papers to set aside the ex parte decree, the case\\nwould not have ended there but would have continued. When\\napplying the application approach, it is crystal clear that there is\\nno right of appeal against the impugned order and hence the\\nfinal appeal filed by the Petitioner is misconceived in law.\\nThe Petitioner should have come before this Court against the\\norder of the Commercial High Court not by way of a final appeal\\nmade under section 754(1) read with section 754(5) of the Civil\\nProcedure Code and sections 5 and 6 of the High Court of the 236 observed thus: \"There have been two virtually alternating tests adopted\\nby different judges from time to time in UK to determine what the final\\norders and interlocutory orders were. In White Vs Brunton [1984] 2 All ER\\n606 Sir John Donaldson MR labeled the two tests as the order approach and\\nthe application approach. The order approach was adopted in Shubrook V s\\nTufnell [1882] 9 QBD 621 Jessel MR and Lindely LJ held that an order is\\nfinal if it finally determines the matter in litigation. Thus the issue of final\\nand interlocutory depended on the nature of the order made. The application\\napproach was adopted in Salaman Vs Warner & others [1891] 1QB 734 in\\nwhich Court of Appeal consisting of Lord Esher MR, Fry and Lopes LJJ\\nheld that the final order is one made on such application or proceeding that,\\nfor whichever side the order was given, it will, if it stands, finally determine\\nthe matter in litigation. Thus the issue of final or interlocutory depended on\\nthe nature of the application or proceedings giving rise to the order and not\\nthe order itself.\"\\nIn Bozson Vs Altrincham Urban District Council [1903] 1KB 547\\nat 548 Lord AlverstoneCJ dealing with a question whether an order was a\\nfinal order or interlocutory order laid down the following test: \"It seems to\\nme that the real test for determining this question ought to be this: Does the\\njudgment or order, as made, finally dispose of the rights of the parties? If it\\ndoes, then I think it ought to be treated as a final order, but if it does not, it is\\nthen, in my opinion an interlocutory order\". Swinfen Eady L.J (with whom\\nPickford and Bankes LJJ agreed) in Isaac & Sons v. Salbstein (1916) 2KB\\n139 at 147 approved the test of finality stated by Lord Alverstone C J.\\nI\\n,I\\nI\\n,\\nI\\n•,!\\n,f\\n,\\nl5\\nIn Chettiar V s Chettiar [2011] Bar Association Law Reports\\npage25 Plaintiff filed action in the District Court of Colombo praying for or matter, which is not a judgement”\\nAccording to this interpretation section, appeals could be filed in respect of judgments\\nor orders which are final judgements. In respect of other orders which are not final and\\nconsidered as interlocutory orders leave to appeal applications have to be filed. In view\\nof this definition it appears that judgements fall into two categories. Similarly orders\\nalso fall into two categories.\\n(A) Judgements which are final judgements\\n(B) Judgements which are not final.\\n(C ) Orders which area final judgements\\n13SC. Appeal No. 41/2015 and SC/CHC Appeal 37/2008\\n(D) Orders which are interlocutory orders.\\nTherefore appeal could be filed in respect of judgements or orders which are final. In\\nrespect of other orders leave has to be first obtained. Therefore it appears that finality of\\nthe judgement or order that matters and not the name given as judgement or order.\\nIn AG v. Piyasena 63 NLR pages 489 -501 dealing with orders of discharge and\\nacquittal it was held that what is material is not the use of the language but the effect of\\nthe order. In a criminal case if a person is acquitted and if tried again, the accused\\ncould plead autrofois acquit similar to res judicata in a civil case. The acquittal is made\\non the merits of the case unlike an order of discharge. Therefore, one has to consider the\\nnature and the effect of the judgement or order in determining whether it is a final\\norder or a judgement. The issue is whether judgement or order finally determined the\\nrights and liabilities of the parties.\\nAt this stage it is appropriate to refer to section 184 of the Civil Procedure Code dealing\\nwith judgment and decree which reads thus:\\n184 (1) The Court, upon the evidence which has been duly taken or upon the facts\\nadmitted in the pleadings or otherwise, and after the parties have been heard either in\\nperson or by their respective counsel or registered attorneys ( or recognized agents),\\nshall, after consultation with the assessors ( if any), pronounce judgement in open court,\\neither at once or on some future day, of which notice shall be given to the parties or\\ntheir registered attorneys at the termination of the trial.\\nThere is no doubt that a judgment delivered under section 184 is a final judgment. It is\\n236 observed thus: \"There have been two virtually alternating tests adopted\\nby different judges from time to time in UK to determine what the final\\norders and interlocutory orders were. In White Vs Brunton [1984] 2 All ER\\n606 Sir John Donaldson MR labeled the two tests as the order approach and\\nthe application approach. The order approach was adopted in Shubrook V s\\nTufnell [1882] 9 QBD 621 Jessel MR and Lindely LJ held that an order is\\nfinal if it finally determines the matter in litigation. Thus the issue of final\\nand interlocutory depended on the nature of the order made. The application\\napproach was adopted in Salaman Vs Warner & others [1891] 1QB 734 in\\nwhich Court of Appeal consisting of Lord Esher MR, Fry and Lopes LJJ\\nheld that the final order is one made on such application or proceeding that,\\nfor whichever side the order was given, it will, if it stands, finally determine\\nthe matter in litigation. Thus the issue of final or interlocutory depended on\\nthe nature of the application or proceedings giving rise to the order and not\\nthe order itself.\"\\nIn Bozson Vs Altrincham Urban District Council [1903] 1KB 547\\nat 548 Lord AlverstoneCJ dealing with a question whether an order was a\\nfinal order or interlocutory order laid down the following test: \"It seems to\\nme that the real test for determining this question ought to be this: Does the\\njudgment or order, as made, finally dispose of the rights of the parties? If it\\ndoes, then I think it ought to be treated as a final order, but if it does not, it is\\nthen, in my opinion an interlocutory order\". Swinfen Eady L.J (with whom\\nPickford and Bankes LJJ agreed) in Isaac & Sons v. Salbstein (1916) 2KB\\n139 at 147 approved the test of finality stated by Lord Alverstone C J.\\nI\\n,I\\nI\\n,\\nI\\n•,!\\n,f\\n,\\nl5\\nIn Chettiar V s Chettiar [2011] Bar Association Law Reports\\npage25 Plaintiff filed action in the District Court of Colombo praying for An analysis of the English cases, further strengthens the point that the question of\\ndetermining the status of a judgment or an order had not only been difficult, but many\\njudges in different jurisdictions for centuries had been saddled with the complexity of the\\nproblem in differentiating a judgment form an order having effect of a final judgment and\\nan interlocutory order. For instance in Salaman v. Warner «(1891) Q.B.D. 734) the\\nquestion before Court was to decide as to whether an order dismissing an action made\\nupon the hearing of a point of a point of law raised by the pleadings before the trial, is a\\nfinal order.\\nConsidering the test that should be adopted to decide a \\'final judgment or order\\' or an\\n\\'order\\' in terms of section 754 (5) of the Civil Procedure Coe, Justice Dheeraratne in\\nRanjit v. Kusumawathi and others (supra) had referred to the two tests, which was\\nreferred to as the \\'Order approach\\' and the \\'application approach\\' by Sir John Donaldson\\nMR., in White v. Brunton «(1984) 2 All E.R. 606).\\nThe order approach had been adopted in Shubrook v Tufnell «(1882) 9 Q.B.D. 621)\\nwhereas the application approach was adopted in Salaman v Warner (supra). Later in13\\nBozson v Altrincham Urban District Council (supra), the Court had considered the\\nquestion as to whether an order made in an action was final or interlocutory and reverted\\nto the order approach. In deciding so, Lord Alverstone, C.3., states thus:\\n\"It seems to me that the real test for determining this question ought to be this:\\nDoes the judgment or order, as made, finally dispose of the rights of the parties?\\nIf it does, then I think it ought to be treated as a final order: but if it does not, it is\\nthen, in my opinion, an interlocutory order.\"\\nThe watershed in the long line of decisions, which considered the test to determine a\\n\\'final judgment or order\\' or an \\'order\\', in my view, was the decision of Lord Denning,\\nMR., in salter Rex and Co. v Ghosh ((1971) 2 All ER 865). After considering the hearing of a point of law raised by the pleadings before the trial, is a final order.\\nConsidering the test that should be adopted to decide a ‘final judgment or order’ or an ‘order’\\nin terms of section 754(5) of the Civil Procedure Code, Justice Dheeraratne in Ranjit v\\nKusumawathi and others (supra) had referred to the two tests, which was referred to as the\\n‘Order approach’ and the ‘application approach’ by Sir John Donaldson MR., in White v\\nBrunton ([1984] 2 All E.R. 606).\\nThe order approach had been adopted in Shubrook v Tufnell ((1882) 9 Q.B.D. 621) whereas\\nthe application approach was adopted in Salaman v Warner (supra). Later in Bozson v\\nAltrincham Urban District Council (supra), the Court had considered the question as to\\nwhether an order made in an action was final or interlocutory and reverted to the order\\napproach. In deciding so, Lord Alverstone, C.J., stated thus:\\n“It seems to me that the real test for determining this question\\nought to be this: Does the judgment or order, as made, finally\\ndispose of the rights of the parties? If it does, then I think it\\n11ought to be treated as a final order: but if it does not, it is then,\\nin my opinion, an interlocutory order.”\\nThe watershed in the long line of decisions, which considered the test to determine a ‘final\\njudgment or order’ or an ‘order’, in my view, was the decision of Lord Denning, MR., in Salter\\nRex and Co. v Ghosh ([1971] 2 All ER 865). After considering the decisions in Bozson (supra),\\nHunt v Allied Bakeries Ltd. ([1956] 3 All E.R. 513) and Salaman v Warner (supra), Lord\\nDenning, MR., had held that in determining whether an application is final or interlocutory,\\nregard must be had to the nature of the application and not to the nature of the order, which\\nthe Court eventually makes and since an application for a new trial if granted would clearly be hearing of a point of law raised by the pleadings before the trial, is a final order.\\nConsidering the test that should be adopted to decide a ‘final judgment or order’ or an ‘order’\\nin terms of section 754(5) of the Civil Procedure Code, Justice Dheeraratne in Ranjit v\\nKusumawathi and others (supra) had referred to the two tests, which was referred to as the\\n‘Order approach’ and the ‘application approach’ by Sir John Donaldson MR., in White v\\nBrunton ([1984] 2 All E.R. 606).\\n10The order approach had been adopted in Shubrook v Tufnell ((1882) 9 Q.B.D. 621) whereas\\nthe application approach was adopted in Salaman v Warner (supra). Later in Bozson v\\nAltrincham Urban District Council (supra), the Court had considered the question as to\\nwhether an order made in an action was final or interlocutory and reverted to the order\\napproach. In deciding so, Lord Alverstone, C.J., stated thus:\\n“It seems to me that the real test for determining this question\\nought to be this: Does the judgment or order, as made, finally\\ndispose of the rights of the parties? If it does, then I think it\\nought to be treated as a final order: but if it does not, it is then,\\nin my opinion, an interlocutory order.”\\nThe watershed in the long line of decisions, which considered the test to determine a ‘final\\njudgment or order’ or an ‘order’, in my view, was the decision of Lord Denning, MR., in Salter\\nRex and Co. v Ghosh ([1971] 2 All ER 865). After considering the decisions in Bozson (supra),\\nHunt v Allied Bakeries Ltd. ([1956] 3 All E.R. 513) and Salaman v Warner (supra), Lord\\nDenning, MR., had held that in determining whether an application is final or interlocutory,\\nregard must be had to the nature of the application and not to the nature of the order, which\\nthe Court eventually makes and since an application for a new trial if granted would clearly be The application approach was adopted in Salaman v. Warnar & others (supra). It was\\nheld that the final order is one made on such application or proceeding that, for\\nwhichever side the order was given, it will, if it stands, finally determine the matter in\\nlitigation. Thus the issue of final or interlocutory depended on the nature of the\\napplication or proceedings giving rise to the order and not the order itself.\\nIn Bozson v Altrincham Urban District Council, the Court of Appeal consisting of Earl\\nof Halsbury, Lord Alverstorn, CJ, and Jeune P. reverted to the order approach.\\nIn Salter Rex & Co. v. Gosh, Lord Denning, MR considered both approaches and he\\nheld that the application approach is the correct approach. He stated that:“ There is a note\\nin the Supreme Court Practice 1970 under RSC Ord 59, from which it appears that\\ndifferent tests have been stated from time to time as to what is final and what is\\ninterlocutory. In Standard Discount Co. v.. La Grange and Salaman v. Warner (supra)\\nLord Esher MR said that the test was the nature of the application to the court and not to\\nthe nature of the order which the court eventually made. But in Bozson v. Altrincham\\nUrban District Council (supra) the court said that the test was the nature of the order as\\nmade. Lord Alverstone, CJ. said that test is; “ ……that the test is whether the judgement\\nor order, as made, finally dispose of the rights of the parties”. Lord Alverstone, CJ was\\n10SC. Appeal No. 41/2015 and SC/CHC Appeal 37/2008\\nright in logic , but Lord Esher MR was right in experience. Lord Esher, MR’s test has\\nalways been applied in practice . For instance, an appeal from a judgement under RSC\\nOrd 14(even apart from the new rule) has always been regarded as interlocutory and\\nnotice of appeal has to be lodged within 14 days . An appeal from an order striking out\\nan action as being frivolous or vexatious, or as disclosing no reasonable cause of action,\\nor dismissing it for want of prosecution – every such order is regarded as interlocutory;',\n",
       " 'answer': 'It seems you\\'re looking for a specific answer based on the text provided. However, there\\'s no single question at the end but rather a continuation of legal discussions and interpretations. If I had to provide an \"answer\" in the context of summarizing the key points discussed:\\n\\nThe tests for determining whether an order is final or interlocutory have varied over time. The \"application approach,\" which considers the nature of the application made to the court, has been used alongside the \"order approach,\" which examines the nature of the order itself.\\n\\n1. **Application Approach:**\\n   - This approach, as espoused by Lord Esher in Standard Discount Co. v. La Grange and Salaman v. Warner, considers the nature of the application made to the court.\\n   - An example provided in practice is that an appeal from a judgment under RSC Ord 14 has always been regarded as interlocutory.\\n\\n2. **Order Approach:**\\n   - This method, exemplified by Lord Alverstone CJ\\'s statement that \"the test is whether the judgment or order, as made, finally dispose of the rights of the parties,\" focuses on the nature of the order itself.\\n   - Notably, this approach has been applied in certain legal contexts, such as appeals from orders striking out actions.\\n\\nThe discussion suggests a preference for the application approach by Lord Denning MR in Salter Rex & Co. v. Gosh, where he emphasized considering \"the nature of the application and not to the nature of the order which the Court eventually makes.\"',\n",
       " 'response_time': 2294.415725708008,\n",
       " 'cpu_usage': 62.6}"
      ]
     },
     "execution_count": 19,
     "metadata": {},
     "output_type": "execute_result"
    }
   ],
   "source": [
    "multi_hop_arad(qa_df.iloc[0][\"question\"], k=5, max_hops=2)"
   ]
  },
  {
   "cell_type": "code",
   "execution_count": 20,
   "id": "73263090",
   "metadata": {},
   "outputs": [],
   "source": [
    "results = []"
   ]
  },
  {
   "cell_type": "code",
   "execution_count": 21,
   "id": "8e89adad",
   "metadata": {},
   "outputs": [
    {
     "name": "stderr",
     "output_type": "stream",
     "text": [
      "100%|██████████| 4/4 [4:58:25<00:00, 4476.30s/it]  \n"
     ]
    }
   ],
   "source": [
    "for idx, row in tqdm(qa_df.iterrows(), total=len(qa_df)):\n",
    "    question = row[\"question\"]\n",
    "    reference_answer = row[\"answer\"]\n",
    "\n",
    "    result = multi_hop_arad(question, k=5, max_hops=2)\n",
    "    result[\"reference_answer\"] = reference_answer\n",
    "    results.append(result)"
   ]
  },
  {
   "cell_type": "code",
   "execution_count": 22,
   "id": "ed7a613b",
   "metadata": {},
   "outputs": [],
   "source": [
    "# Convert to DataFrame\n",
    "results_df = pd.DataFrame(results)"
   ]
  },
  {
   "cell_type": "code",
   "execution_count": 24,
   "id": "2ea4b968",
   "metadata": {},
   "outputs": [],
   "source": [
    "# Compute ROUGE scores\n",
    "rouge = Rouge()\n",
    "rouge_scores = results_df.apply(lambda row: rouge.get_scores(row[\"answer\"], row[\"reference_answer\"])[0], axis=1)"
   ]
  },
  {
   "cell_type": "code",
   "execution_count": 25,
   "id": "5472ee18",
   "metadata": {},
   "outputs": [],
   "source": [
    "# Unpack ROUGE metrics\n",
    "results_df[\"rouge1\"] = [r[\"rouge-1\"][\"f\"] for r in rouge_scores]\n",
    "results_df[\"rouge2\"] = [r[\"rouge-2\"][\"f\"] for r in rouge_scores]\n",
    "results_df[\"rougeL\"] = [r[\"rouge-l\"][\"f\"] for r in rouge_scores]"
   ]
  },
  {
   "cell_type": "code",
   "execution_count": 26,
   "id": "c0cea13a",
   "metadata": {},
   "outputs": [
    {
     "name": "stderr",
     "output_type": "stream",
     "text": [
      "Some weights of RobertaModel were not initialized from the model checkpoint at roberta-large and are newly initialized: ['roberta.pooler.dense.bias', 'roberta.pooler.dense.weight']\n",
      "You should probably TRAIN this model on a down-stream task to be able to use it for predictions and inference.\n"
     ]
    }
   ],
   "source": [
    "# Compute BERTScore\n",
    "P, R, F1 = bert_score(results_df[\"answer\"].tolist(), results_df[\"reference_answer\"].tolist(), lang=\"en\")\n",
    "results_df[\"bertscore\"] = F1.numpy()"
   ]
  },
  {
   "cell_type": "code",
   "execution_count": 27,
   "id": "0ef76332",
   "metadata": {},
   "outputs": [],
   "source": [
    "# Accuracy – Exact match (optional, basic metric)\n",
    "results_df[\"accuracy\"] = (results_df[\"answer\"].str.strip().str.lower() ==\n",
    "                          results_df[\"reference_answer\"].str.strip().str.lower()).astype(int)"
   ]
  },
  {
   "cell_type": "code",
   "execution_count": 28,
   "id": "4881f629",
   "metadata": {},
   "outputs": [],
   "source": [
    "results_df.to_csv(\"llama3.1_arad_multihop_evaluation.csv\", index=False)"
   ]
  },
  {
   "cell_type": "markdown",
   "id": "c0d704ae",
   "metadata": {},
   "source": [
    "### Few-Shot vs Zero-Shot Comparison"
   ]
  },
  {
   "cell_type": "code",
   "execution_count": 8,
   "id": "d8c78a28",
   "metadata": {},
   "outputs": [],
   "source": [
    "few_shot_examples = qa_df.sample(3, random_state=42)"
   ]
  },
  {
   "cell_type": "code",
   "execution_count": 9,
   "id": "ba6d728a",
   "metadata": {},
   "outputs": [],
   "source": [
    "def multi_hop_arad_few_shot(question, k=5, max_hops=2):\n",
    "    # Add few-shot examples\n",
    "    examples_text = \"\"\n",
    "    for _, row in few_shot_examples.iterrows():\n",
    "        examples_text += f\"Question: {row['question']}\\nAnswer: {row['answer']}\\n\\n\"\n",
    "\n",
    "    # Step 1: Embed the question\n",
    "    question_embedding = embedder.encode(question, convert_to_tensor=True)\n",
    "\n",
    "    # Step 2: Retrieve top-k chunks\n",
    "    similarities = cos_sim(question_embedding, chunk_embeddings)[0]\n",
    "    top_k_indices = torch.topk(similarities, k).indices.tolist()\n",
    "    context = \" \".join(chunked_cases_df.iloc[i][\"text\"] for i in top_k_indices)\n",
    "\n",
    "    full_context = context\n",
    "\n",
    "    # Step 3: Multi-hop retrieval\n",
    "    if max_hops > 1:\n",
    "        prompt = f\"{examples_text}Question: {question}\\nRelevant Law Context: {context}\\nAnswer:\"\n",
    "        intermediate_answer = llm.invoke(prompt)\n",
    "\n",
    "        answer_embedding = embedder.encode(intermediate_answer, convert_to_tensor=True)\n",
    "        new_similarities = cos_sim(answer_embedding, chunk_embeddings)[0]\n",
    "        new_indices = torch.topk(new_similarities, k).indices.tolist()\n",
    "        second_hop_context = \" \".join(chunked_cases_df.iloc[i][\"text\"] for i in new_indices)\n",
    "\n",
    "        full_context += \"\\n\" + second_hop_context\n",
    "\n",
    "    # Final prompt with few-shot\n",
    "    final_prompt = f\"{examples_text}Question: {question}\\n\\nContext:\\n{full_context}\\n\\nAnswer:\"\n",
    "\n",
    "    cpu_before = psutil.cpu_percent(interval=None)\n",
    "    start_time = time.time()\n",
    "    answer = llm.invoke(final_prompt)\n",
    "    elapsed_time = time.time() - start_time\n",
    "    cpu_after = psutil.cpu_percent(interval=None)\n",
    "\n",
    "    return {\n",
    "        \"question\": question,\n",
    "        \"context\": full_context,\n",
    "        \"answer\": answer,\n",
    "        \"response_time\": elapsed_time,\n",
    "        \"cpu_usage\": cpu_after\n",
    "    }"
   ]
  },
  {
   "cell_type": "code",
   "execution_count": 10,
   "id": "6625c2ad",
   "metadata": {},
   "outputs": [],
   "source": [
    "few_shot_results = []"
   ]
  },
  {
   "cell_type": "code",
   "execution_count": 11,
   "id": "c2e6e58e",
   "metadata": {},
   "outputs": [
    {
     "name": "stderr",
     "output_type": "stream",
     "text": [
      "  0%|          | 0/4 [00:00<?, ?it/s]"
     ]
    },
    {
     "name": "stderr",
     "output_type": "stream",
     "text": [
      "100%|██████████| 4/4 [5:27:33<00:00, 4913.48s/it]  \n"
     ]
    }
   ],
   "source": [
    "for idx, row in tqdm(qa_df.iterrows(), total=len(qa_df)):\n",
    "    question = row[\"question\"]\n",
    "    reference_answer = row[\"answer\"]\n",
    "\n",
    "    result = multi_hop_arad_few_shot(question, k=5, max_hops=2)\n",
    "    result[\"reference_answer\"] = reference_answer\n",
    "    few_shot_results.append(result)"
   ]
  },
  {
   "cell_type": "code",
   "execution_count": 13,
   "id": "cafaf5da",
   "metadata": {},
   "outputs": [],
   "source": [
    "# Convert to DataFrame\n",
    "few_shot_df = pd.DataFrame(few_shot_results)"
   ]
  },
  {
   "cell_type": "code",
   "execution_count": 15,
   "id": "9d4a2c21",
   "metadata": {},
   "outputs": [],
   "source": [
    "# Compute ROUGE\n",
    "rouge = Rouge()\n",
    "rouge_scores_fs = few_shot_df.apply(lambda row: rouge.get_scores(row[\"answer\"], row[\"reference_answer\"])[0], axis=1)"
   ]
  },
  {
   "cell_type": "code",
   "execution_count": 16,
   "id": "ee4b5e7c",
   "metadata": {},
   "outputs": [],
   "source": [
    "few_shot_df[\"rouge1\"] = [r[\"rouge-1\"][\"f\"] for r in rouge_scores_fs]\n",
    "few_shot_df[\"rouge2\"] = [r[\"rouge-2\"][\"f\"] for r in rouge_scores_fs]\n",
    "few_shot_df[\"rougeL\"] = [r[\"rouge-l\"][\"f\"] for r in rouge_scores_fs]"
   ]
  },
  {
   "cell_type": "code",
   "execution_count": 17,
   "id": "d98a7230",
   "metadata": {},
   "outputs": [
    {
     "name": "stderr",
     "output_type": "stream",
     "text": [
      "Some weights of RobertaModel were not initialized from the model checkpoint at roberta-large and are newly initialized: ['roberta.pooler.dense.bias', 'roberta.pooler.dense.weight']\n",
      "You should probably TRAIN this model on a down-stream task to be able to use it for predictions and inference.\n"
     ]
    }
   ],
   "source": [
    "# BERTScore\n",
    "P_fs, R_fs, F1_fs = bert_score(few_shot_df[\"answer\"].tolist(), few_shot_df[\"reference_answer\"].tolist(), lang=\"en\")\n",
    "few_shot_df[\"bertscore\"] = F1_fs.numpy()"
   ]
  },
  {
   "cell_type": "code",
   "execution_count": 18,
   "id": "ece0ba83",
   "metadata": {},
   "outputs": [],
   "source": [
    "# Accuracy\n",
    "few_shot_df[\"accuracy\"] = (few_shot_df[\"answer\"].str.strip().str.lower() ==\n",
    "                           few_shot_df[\"reference_answer\"].str.strip().str.lower()).astype(int)"
   ]
  },
  {
   "cell_type": "code",
   "execution_count": 19,
   "id": "0a7e308d",
   "metadata": {},
   "outputs": [],
   "source": [
    "few_shot_df.to_csv(\"llama3.1_arad_multihop_few_shot.csv\", index=False)"
   ]
  },
  {
   "cell_type": "markdown",
   "id": "d524eac9",
   "metadata": {},
   "source": [
    "### Comparison"
   ]
  },
  {
   "cell_type": "code",
   "execution_count": 20,
   "id": "0598eaeb",
   "metadata": {},
   "outputs": [],
   "source": [
    "# Sample structure if you're loading from CSVs\n",
    "zero_shot_df = pd.read_csv(\"llama3.1_arad_multihop_evaluation.csv\")\n",
    "few_shot_df = pd.read_csv(\"llama3.1_arad_multihop_few_shot.csv\")"
   ]
  },
  {
   "cell_type": "code",
   "execution_count": 21,
   "id": "38915d51",
   "metadata": {},
   "outputs": [],
   "source": [
    "# Compute average metrics for both\n",
    "comparison_metrics = {\n",
    "    \"Accuracy\": [\n",
    "        zero_shot_df[\"accuracy\"].mean(),\n",
    "        few_shot_df[\"accuracy\"].mean()\n",
    "    ],\n",
    "    \"ROUGE-1\": [\n",
    "        zero_shot_df[\"rouge1\"].mean(),\n",
    "        few_shot_df[\"rouge1\"].mean()\n",
    "    ],\n",
    "    \"ROUGE-2\": [\n",
    "        zero_shot_df[\"rouge2\"].mean(),\n",
    "        few_shot_df[\"rouge2\"].mean()\n",
    "    ],\n",
    "    \"ROUGE-L\": [\n",
    "        zero_shot_df[\"rougeL\"].mean(),\n",
    "        few_shot_df[\"rougeL\"].mean()\n",
    "    ],\n",
    "    \"BERTScore\": [\n",
    "        zero_shot_df[\"bertscore\"].mean(),\n",
    "        few_shot_df[\"bertscore\"].mean()\n",
    "    ],\n",
    "    \"CPU Usage (%)\": [\n",
    "        zero_shot_df[\"cpu_usage\"].mean(),\n",
    "        few_shot_df[\"cpu_usage\"].mean()\n",
    "    ],\n",
    "    \"Response Time (s)\": [\n",
    "        zero_shot_df[\"response_time\"].mean(),\n",
    "        few_shot_df[\"response_time\"].mean()\n",
    "    ]\n",
    "}"
   ]
  },
  {
   "cell_type": "code",
   "execution_count": 22,
   "id": "b546dbcd",
   "metadata": {},
   "outputs": [],
   "source": [
    "# Create a comparison DataFrame\n",
    "comparison_df = pd.DataFrame(comparison_metrics, index=[\"Zero-Shot\", \"Few-Shot\"])"
   ]
  },
  {
   "cell_type": "code",
   "execution_count": 29,
   "id": "a8347ace",
   "metadata": {},
   "outputs": [
    {
     "name": "stderr",
     "output_type": "stream",
     "text": [
      "C:\\Users\\User\\AppData\\Local\\Temp\\ipykernel_2856\\3199995987.py:10: UserWarning: Attempting to set identical low and high ylims makes transformation singular; automatically expanding.\n",
      "  axes[idx].set_ylim(0, max(comparison_df[metric]) * 1.2)\n"
     ]
    },
    {
     "data": {
      "image/png": "[encoded data removed]",
      "text/plain": [
       "<Figure size 1500x1000 with 7 Axes>"
      ]
     },
     "metadata": {},
     "output_type": "display_data"
    }
   ],
   "source": [
    "# Plotting\n",
    "metrics_to_plot = list(comparison_metrics.keys())\n",
    "fig, axes = plt.subplots(nrows=3, ncols=3, figsize=(15, 10))\n",
    "axes = axes.flatten()\n",
    "\n",
    "for idx, metric in enumerate(metrics_to_plot):\n",
    "    axes[idx].bar(comparison_df.index, comparison_df[metric], color=[\"skyblue\", \"salmon\"])\n",
    "    axes[idx].set_title(metric)\n",
    "    axes[idx].set_ylabel(\"Score\" if \"ROUGE\" in metric or \"BERT\" in metric or \"Accuracy\" in metric else \"Value\")\n",
    "    axes[idx].set_ylim(0, max(comparison_df[metric]) * 1.2)\n",
    "\n",
    "# Remove unused subplots\n",
    "for j in range(len(metrics_to_plot), len(axes)):\n",
    "    fig.delaxes(axes[j])\n",
    "\n",
    "fig.suptitle(\"Zero-Shot vs Few-Shot Evaluation Metrics\", fontsize=16)\n",
    "fig.tight_layout(rect=[0, 0, 1, 0.97])\n",
    "plt.show()"
   ]
  },
  {
   "cell_type": "code",
   "execution_count": 30,
   "id": "0bb59e9e",
   "metadata": {},
   "outputs": [
    {
     "name": "stdout",
     "output_type": "stream",
     "text": [
      "Metric               Zero-Shot       Few-Shot\n",
      "==================================================\n",
      "Accuracy             0.000000        0.000000\n",
      "ROUGE-1              0.195018        0.184140\n",
      "ROUGE-2              0.036704        0.027507\n",
      "ROUGE-L              0.169444        0.161605\n",
      "BERTScore            0.820085        0.819171\n",
      "CPU Usage (%)        63.300000       64.300000\n",
      "Response Time (s)    2275.019806     2274.813833\n"
     ]
    }
   ],
   "source": [
    "# Print each metric side-by-side\n",
    "print(f\"{'Metric':<20} {'Zero-Shot':<15} {'Few-Shot'}\")\n",
    "print(\"=\"*50)\n",
    "for metric, values in comparison_metrics.items():\n",
    "    print(f\"{metric:<20} {values[0]:<15.6f} {values[1]:.6f}\")"
   ]
  }
 ],
 "metadata": {
  "kernelspec": {
   "display_name": "Python 3",
   "language": "python",
   "name": "python3"
  },
  "language_info": {
   "codemirror_mode": {
    "name": "ipython",
    "version": 3
   },
   "file_extension": ".py",
   "mimetype": "text/x-python",
   "name": "python",
   "nbconvert_exporter": "python",
   "pygments_lexer": "ipython3",
   "version": "3.12.4"
  }
 },
 "nbformat": 4,
 "nbformat_minor": 5
}
