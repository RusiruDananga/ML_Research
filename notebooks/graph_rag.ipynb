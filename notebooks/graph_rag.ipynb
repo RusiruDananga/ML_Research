{
 "cells": [
  {
   "cell_type": "code",
   "execution_count": 3,
   "metadata": {},
   "outputs": [
    {
     "name": "stdout",
     "output_type": "stream",
     "text": [
      "WARNING:tensorflow:From c:\\Users\\User\\AppData\\Local\\Programs\\Python\\Python312\\Lib\\site-packages\\tf_keras\\src\\losses.py:2976: The name tf.losses.sparse_softmax_cross_entropy is deprecated. Please use tf.compat.v1.losses.sparse_softmax_cross_entropy instead.\n",
      "\n"
     ]
    }
   ],
   "source": [
    "from sklearn.model_selection import train_test_split\n",
    "import pandas as pd\n",
    "import tiktoken\n",
    "from tqdm import tqdm\n",
    "import time\n",
    "from sentence_transformers import SentenceTransformer\n",
    "import faiss\n",
    "import numpy as np\n",
    "import ollama\n",
    "from langchain_ollama import OllamaLLM\n",
    "import ast\n",
    "import pickle\n",
    "import networkx as nx"
   ]
  },
  {
   "cell_type": "code",
   "execution_count": 4,
   "metadata": {},
   "outputs": [],
   "source": [
    "%run ../utils/fine_tuning_util.ipynb\n",
    "%run ../utils/save_and_load_util.ipynb"
   ]
  },
  {
   "cell_type": "code",
   "execution_count": 5,
   "metadata": {},
   "outputs": [],
   "source": [
    "model = SentenceTransformer('all-MiniLM-L6-v2')  # Efficient embedding model\n",
    "chunked_df = pd.read_csv(\"chunked_law_cases.csv\")"
   ]
  },
  {
   "cell_type": "code",
   "execution_count": 6,
   "metadata": {},
   "outputs": [],
   "source": [
    "chunked_df['embeddings'] = chunked_df['text'].apply(lambda x: model.encode(x))"
   ]
  },
  {
   "cell_type": "code",
   "execution_count": 7,
   "metadata": {},
   "outputs": [],
   "source": [
    "G = nx.Graph()"
   ]
  },
  {
   "cell_type": "code",
   "execution_count": 8,
   "metadata": {},
   "outputs": [],
   "source": [
    "for _, row in chunked_df.iterrows():\n",
    "    G.add_node(row['chunk_id'], text=row['text'])\n",
    "    if _ > 0:\n",
    "        G.add_edge(row['chunk_id'], row['chunk_id'] - 1)  # Sequential linking"
   ]
  },
  {
   "cell_type": "code",
   "execution_count": 9,
   "metadata": {},
   "outputs": [],
   "source": [
    "embeddings = np.array(chunked_df['embeddings'].tolist()).astype('float32')\n",
    "index = faiss.IndexFlatL2(embeddings.shape[1])\n",
    "index.add(embeddings)"
   ]
  },
  {
   "cell_type": "code",
   "execution_count": 10,
   "metadata": {},
   "outputs": [],
   "source": [
    "def retrieve_similar(query):\n",
    "    query_embedding = model.encode([query]).astype('float32')\n",
    "    D, I = index.search(query_embedding, 5)  # Retrieve top 5 similar chunks\n",
    "    return chunked_df.iloc[I[0]]['text'].tolist()"
   ]
  },
  {
   "cell_type": "code",
   "execution_count": 11,
   "metadata": {},
   "outputs": [],
   "source": [
    "llm = OllamaLLM(model=\"llama3.1\")"
   ]
  },
  {
   "cell_type": "code",
   "execution_count": 12,
   "metadata": {},
   "outputs": [
    {
     "name": "stdout",
     "output_type": "stream",
     "text": [
      "According to the provided text, the legal precedent for contract breaches is as follows:\n",
      "\n",
      "* A breach of contract gives the injured party a right to either compel the guilty party to perform their promise (specific performance) or sue them for damages.\n",
      "* Even a breach sufficient to effect a discharge does not itself discharge the contract, but merely gives the other party an option to decide whether they will treat the contract as discharged.\n",
      "* The injured party may sue for damages at once without awaiting the date fixed for performance and in the case of an obligation entitling them to specific performance, they may ask for this relief.\n",
      "\n",
      "This is based on the statements made by Weeramantry (Vol. II, p. 884) who says that even a breach sufficient to effect a discharge does not itself discharge the contract, but merely gives the other party an option to decide whether he will treat the contract as discharged. Should they elect to do so, he may sue for damages at once without awaiting the date fixed for performance and in the case of an obligation entitling him to specific performance, he may ask for this relief.\n"
     ]
    }
   ],
   "source": [
    "def query_llama(query):\n",
    "    relevant_chunks = retrieve_similar(query)\n",
    "    context = \"\\n\".join(relevant_chunks)\n",
    "\n",
    "    response = ollama.chat(model='llama3.1', messages=[\n",
    "        {\"role\": \"system\", \"content\": \"You are a legal AI assistant trained on case law.\"},\n",
    "        {\"role\": \"user\", \"content\": f\"Use this context:\\n{context}\\n\\nQuestion: {query}\"}\n",
    "    ])\n",
    "    return response['message']['content']\n",
    "\n",
    "print(query_llama(\"What is the legal precedent for contract breaches?\"))"
   ]
  },
  {
   "cell_type": "code",
   "execution_count": 13,
   "metadata": {},
   "outputs": [],
   "source": [
    "def expand_graph_rag(query):\n",
    "    similar_chunks = retrieve_similar(query)\n",
    "    expanded_context = set(similar_chunks)\n",
    "\n",
    "    for chunk in similar_chunks:\n",
    "        neighbors = G.neighbors(chunked_df[chunked_df['text'] == chunk]['chunk_id'].values[0])\n",
    "        expanded_context.update([G.nodes[n]['text'] for n in neighbors])\n",
    "\n",
    "    return \"\\n\".join(expanded_context)"
   ]
  },
  {
   "cell_type": "code",
   "execution_count": 15,
   "metadata": {},
   "outputs": [
    {
     "name": "stdout",
     "output_type": "stream",
     "text": [
      "The provided text appears to be a court judgment or opinion rather than a straightforward question-and-answer format. However, I can extract relevant points related to intellectual property from it and provide an answer in a Q&A style based on those points.\n",
      "\n",
      "**Q: What are the implications of case law on intellectual property?**\n",
      "\n",
      "A: The case law discussed in this text emphasizes the importance of clearly framing issues during a trial for the court to determine. In the context of intellectual property, specifically under section 9 and section 10(1)(a) of the Intellectual Property Act, it implies that plaintiffs must ensure their cause of action includes specific claims regarding infringement rights.\n",
      "\n",
      "**Q: What happens if the plaintiffs' pleadings do not explicitly state an issue regarding the defendant's infringement under section 9?**\n",
      "\n",
      "A: The court may not consider or grant declarations related to such infringement even if mentioned in the plaint, as emphasized by De Silva CJ. This highlights the importance of specific and clear framing of issues during a trial.\n",
      "\n",
      "**Q: What does this mean for obtaining intellectual property rights violations claims?**\n",
      "\n",
      "A: It underscores the need for plaintiffs to be meticulous in drafting their pleadings to include all relevant claims they wish the court to consider, especially when it comes to infringement under different sections of intellectual property laws.\n"
     ]
    }
   ],
   "source": [
    "def query_llama_graph_rag(query):\n",
    "    context = expand_graph_rag(query)\n",
    "\n",
    "    response = ollama.chat(model='llama3.1', messages=[\n",
    "        {\"role\": \"system\", \"content\": \"You are a legal AI assistant trained on case law using Graph RAG.\"},\n",
    "        {\"role\": \"user\", \"content\": f\"Use this context:\\n{context}\\n\\nQuestion: {query}\"}\n",
    "    ])\n",
    "    return response['message']['content']\n",
    "\n",
    "print(query_llama_graph_rag(\"What are the implications of case law on intellectual property?\"))"
   ]
  }
 ],
 "metadata": {
  "kernelspec": {
   "display_name": "Python 3",
   "language": "python",
   "name": "python3"
  },
  "language_info": {
   "codemirror_mode": {
    "name": "ipython",
    "version": 3
   },
   "file_extension": ".py",
   "mimetype": "text/x-python",
   "name": "python",
   "nbconvert_exporter": "python",
   "pygments_lexer": "ipython3",
   "version": "3.12.4"
  }
 },
 "nbformat": 4,
 "nbformat_minor": 2
}
