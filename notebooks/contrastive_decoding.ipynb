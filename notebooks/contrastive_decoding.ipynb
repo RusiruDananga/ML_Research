{
 "cells": [
  {
   "cell_type": "code",
   "execution_count": 2,
   "id": "d300d77b",
   "metadata": {},
   "outputs": [],
   "source": [
    "import pandas as pd\n",
    "import networkx as nx\n",
    "from sentence_transformers import SentenceTransformer, util\n",
    "from sklearn.metrics.pairwise import cosine_similarity\n",
    "import numpy as np\n",
    "import pickle\n",
    "import joblib\n",
    "import spacy\n",
    "from sympy import symbols, Implies\n",
    "import faiss\n",
    "import torch\n",
    "from langchain_ollama import OllamaLLM\n",
    "from tqdm import tqdm\n",
    "import time\n",
    "import evaluate\n",
    "import psutil\n",
    "from collections import Counter\n",
    "from rouge_score import rouge_scorer\n",
    "from bert_score import score as bert_score"
   ]
  },
  {
   "cell_type": "code",
   "execution_count": 9,
   "id": "3fdbedb1",
   "metadata": {},
   "outputs": [],
   "source": [
    "# Load data\n",
    "qa_df = pd.read_csv(\"../data/processed/Questions & Answers.csv\")"
   ]
  },
  {
   "cell_type": "code",
   "execution_count": 10,
   "id": "2ff9a624",
   "metadata": {},
   "outputs": [],
   "source": [
    "# Initialize LLM and similarity model\n",
    "llm = OllamaLLM(model=\"llama3.1\")\n",
    "embedder = SentenceTransformer(\"all-MiniLM-L6-v2\")  # Lightweight and effective"
   ]
  },
  {
   "cell_type": "code",
   "execution_count": 11,
   "id": "5f172a22",
   "metadata": {},
   "outputs": [],
   "source": [
    "# Contrastive Decoding Config\n",
    "NUM_CANDIDATES = 5"
   ]
  },
  {
   "cell_type": "code",
   "execution_count": 12,
   "id": "70042d59",
   "metadata": {},
   "outputs": [],
   "source": [
    "# Init output list\n",
    "results = []"
   ]
  },
  {
   "cell_type": "code",
   "execution_count": 13,
   "id": "cfd88c00",
   "metadata": {},
   "outputs": [
    {
     "name": "stdout",
     "output_type": "stream",
     "text": [
      "\n",
      "🔍 Processing question 1/4\n"
     ]
    },
    {
     "name": "stderr",
     "output_type": "stream",
     "text": [
      "C:\\Users\\User\\AppData\\Local\\Temp\\ipykernel_12788\\2716388015.py:16: LangChainDeprecationWarning: The method `BaseLLM.__call__` was deprecated in langchain-core 0.1.7 and will be removed in 1.0. Use :meth:`~invoke` instead.\n",
      "  answer = llm(question)  # You can optionally add chunked legal context here\n"
     ]
    },
    {
     "name": "stdout",
     "output_type": "stream",
     "text": [
      "\n",
      "🔍 Processing question 2/4\n",
      "\n",
      "🔍 Processing question 3/4\n",
      "\n",
      "🔍 Processing question 4/4\n"
     ]
    }
   ],
   "source": [
    "for idx, row in qa_df.iterrows():\n",
    "    question = row[\"question\"]\n",
    "    reference_answer = row[\"answer\"]\n",
    "\n",
    "    print(f\"\\n🔍 Processing question {idx+1}/{len(qa_df)}\")\n",
    "\n",
    "    # Generate multiple candidates\n",
    "    candidates = []\n",
    "    times = []\n",
    "    cpu_usages = []\n",
    "\n",
    "    for _ in range(NUM_CANDIDATES):\n",
    "        start_time = time.time()\n",
    "        cpu_before = psutil.cpu_percent(interval=None)\n",
    "\n",
    "        answer = llm(question)  # You can optionally add chunked legal context here\n",
    "\n",
    "        cpu_after = psutil.cpu_percent(interval=None)\n",
    "        elapsed_time = time.time() - start_time\n",
    "\n",
    "        candidates.append(answer)\n",
    "        times.append(elapsed_time)\n",
    "        cpu_usages.append(cpu_after)\n",
    "\n",
    "    # Score candidates using semantic similarity to question (optional heuristic)\n",
    "    question_embedding = embedder.encode(question, convert_to_tensor=True)\n",
    "    candidate_embeddings = embedder.encode(candidates, convert_to_tensor=True)\n",
    "\n",
    "    similarities = util.cos_sim(question_embedding, candidate_embeddings)[0]\n",
    "    best_idx = similarities.argmax().item()\n",
    "    best_candidate = candidates[best_idx]\n",
    "\n",
    "    results.append({\n",
    "        \"question\": question,\n",
    "        \"reference_answer\": reference_answer,\n",
    "        \"generated_answer\": best_candidate,\n",
    "        \"response_time\": times[best_idx],\n",
    "        \"cpu_usage_percent\": cpu_usages[best_idx]\n",
    "    })"
   ]
  },
  {
   "cell_type": "code",
   "execution_count": null,
   "id": "8de9e549",
   "metadata": {},
   "outputs": [
    {
     "name": "stdout",
     "output_type": "stream",
     "text": [
      "\n",
      "✅ Saved generated results to 'generated_results.csv'\n"
     ]
    }
   ],
   "source": [
    "# Save results\n",
    "results_df = pd.DataFrame(results)\n",
    "results_df.to_csv(\"src/contrastive_decoding_generated_results.csv\", index=False)\n",
    "print(\"\\n✅ Saved generated results to 'generated_results.csv'\")"
   ]
  },
  {
   "cell_type": "markdown",
   "id": "c0950bb4",
   "metadata": {},
   "source": [
    "### Evaluation"
   ]
  },
  {
   "cell_type": "code",
   "execution_count": null,
   "id": "5e671e9a",
   "metadata": {},
   "outputs": [],
   "source": [
    "# Load CSVs\n",
    "qa_df = pd.read_csv(\"../data/processed/Questions & Answers.csv\")\n",
    "gen_df = pd.read_csv(\"src/contrastive_decoding_generated_results.csv\")"
   ]
  },
  {
   "cell_type": "code",
   "execution_count": 16,
   "id": "a60e9c25",
   "metadata": {},
   "outputs": [],
   "source": [
    "# Merge on 'question' for a complete comparison\n",
    "df = pd.merge(qa_df, gen_df, on=\"question\")"
   ]
  },
  {
   "cell_type": "code",
   "execution_count": 17,
   "id": "e5e5b2d9",
   "metadata": {},
   "outputs": [],
   "source": [
    "# Initialize scorers\n",
    "rouge = rouge_scorer.RougeScorer(['rouge1', 'rouge2', 'rougeL'], use_stemmer=True)"
   ]
  },
  {
   "cell_type": "code",
   "execution_count": 18,
   "id": "44f2ae1a",
   "metadata": {},
   "outputs": [],
   "source": [
    "rouge1_scores, rouge2_scores, rougeL_scores, accuracies = [], [], [], []"
   ]
  },
  {
   "cell_type": "code",
   "execution_count": 19,
   "id": "625e0255",
   "metadata": {},
   "outputs": [
    {
     "name": "stdout",
     "output_type": "stream",
     "text": [
      "\n",
      "🔍 Calculating ROUGE & Accuracy...\n"
     ]
    }
   ],
   "source": [
    "print(\"\\n🔍 Calculating ROUGE & Accuracy...\")\n",
    "\n",
    "for ref, pred in zip(df['answer'], df['generated_answer']):\n",
    "    scores = rouge.score(ref, pred)\n",
    "    rouge1_scores.append(scores['rouge1'].fmeasure)\n",
    "    rouge2_scores.append(scores['rouge2'].fmeasure)\n",
    "    rougeL_scores.append(scores['rougeL'].fmeasure)\n",
    "\n",
    "    # Exact match accuracy\n",
    "    is_exact = int(ref.strip().lower() == pred.strip().lower())\n",
    "    accuracies.append(is_exact)"
   ]
  },
  {
   "cell_type": "code",
   "execution_count": 20,
   "id": "91cac6f2",
   "metadata": {},
   "outputs": [
    {
     "name": "stdout",
     "output_type": "stream",
     "text": [
      "🔍 Calculating BERTScore...\n"
     ]
    },
    {
     "name": "stderr",
     "output_type": "stream",
     "text": [
      "Some weights of RobertaModel were not initialized from the model checkpoint at roberta-large and are newly initialized: ['roberta.pooler.dense.bias', 'roberta.pooler.dense.weight']\n",
      "You should probably TRAIN this model on a down-stream task to be able to use it for predictions and inference.\n"
     ]
    },
    {
     "name": "stdout",
     "output_type": "stream",
     "text": [
      "calculating scores...\n",
      "computing bert embedding.\n"
     ]
    },
    {
     "data": {
      "application/vnd.jupyter.widget-view+json": {
       "model_id": "b706100d360848b7af10d8611b00de94",
       "version_major": 2,
       "version_minor": 0
      },
      "text/plain": [
       "  0%|          | 0/1 [00:00<?, ?it/s]"
      ]
     },
     "metadata": {},
     "output_type": "display_data"
    },
    {
     "name": "stdout",
     "output_type": "stream",
     "text": [
      "computing greedy matching.\n"
     ]
    },
    {
     "data": {
      "application/vnd.jupyter.widget-view+json": {
       "model_id": "566602423c2145fa9f2489317b2ad672",
       "version_major": 2,
       "version_minor": 0
      },
      "text/plain": [
       "  0%|          | 0/1 [00:00<?, ?it/s]"
      ]
     },
     "metadata": {},
     "output_type": "display_data"
    },
    {
     "name": "stdout",
     "output_type": "stream",
     "text": [
      "done in 28.41 seconds, 0.14 sentences/sec\n"
     ]
    }
   ],
   "source": [
    "# Run BERTScore\n",
    "print(\"🔍 Calculating BERTScore...\")\n",
    "P, R, F1 = bert_score(df['generated_answer'].tolist(), df['answer'].tolist(), lang=\"en\", verbose=True)"
   ]
  },
  {
   "cell_type": "code",
   "execution_count": 21,
   "id": "7add6e98",
   "metadata": {},
   "outputs": [
    {
     "name": "stdout",
     "output_type": "stream",
     "text": [
      "\n",
      "✅ Evaluation Summary:\n",
      "Accuracy (Exact Match):       0.0000\n",
      "Average ROUGE-1 F1 Score:     0.2642\n",
      "Average ROUGE-2 F1 Score:     0.0833\n",
      "Average ROUGE-L F1 Score:     0.1619\n",
      "Average BERTScore F1 Score:   0.8346\n",
      "Average Response Time:        352.95 sec\n",
      "Average CPU Usage:            63.38%\n"
     ]
    }
   ],
   "source": [
    "# Summary Output\n",
    "print(\"\\n✅ Evaluation Summary:\")\n",
    "print(f\"Accuracy (Exact Match):       {np.mean(accuracies):.4f}\")\n",
    "print(f\"Average ROUGE-1 F1 Score:     {np.mean(rouge1_scores):.4f}\")\n",
    "print(f\"Average ROUGE-2 F1 Score:     {np.mean(rouge2_scores):.4f}\")\n",
    "print(f\"Average ROUGE-L F1 Score:     {np.mean(rougeL_scores):.4f}\")\n",
    "print(f\"Average BERTScore F1 Score:   {F1.mean().item():.4f}\")\n",
    "print(f\"Average Response Time:        {df['response_time'].mean():.2f} sec\")\n",
    "if 'cpu_usage_percent' in df.columns:\n",
    "    print(f\"Average CPU Usage:            {df['cpu_usage_percent'].mean():.2f}%\")"
   ]
  },
  {
   "cell_type": "code",
   "execution_count": null,
   "id": "4a44ed40",
   "metadata": {},
   "outputs": [
    {
     "name": "stdout",
     "output_type": "stream",
     "text": [
      "\n",
      "📁 Detailed evaluation report saved to 'contrastive_decoding_evaluation_report.csv'\n"
     ]
    }
   ],
   "source": [
    "df[\"rouge1_f1\"] = rouge1_scores\n",
    "df[\"rouge2_f1\"] = rouge2_scores\n",
    "df[\"rougeL_f1\"] = rougeL_scores\n",
    "df[\"bertscore_f1\"] = F1.tolist()\n",
    "df[\"accuracy\"] = accuracies\n",
    "\n",
    "df.to_csv(\"src/contrastive_decoding_evaluation_report.csv\", index=False)\n",
    "print(\"\\n📁 Detailed evaluation report saved to 'contrastive_decoding_evaluation_report.csv'\")"
   ]
  }
 ],
 "metadata": {
  "kernelspec": {
   "display_name": "Python 3",
   "language": "python",
   "name": "python3"
  },
  "language_info": {
   "codemirror_mode": {
    "name": "ipython",
    "version": 3
   },
   "file_extension": ".py",
   "mimetype": "text/x-python",
   "name": "python",
   "nbconvert_exporter": "python",
   "pygments_lexer": "ipython3",
   "version": "3.12.4"
  }
 },
 "nbformat": 4,
 "nbformat_minor": 5
}
