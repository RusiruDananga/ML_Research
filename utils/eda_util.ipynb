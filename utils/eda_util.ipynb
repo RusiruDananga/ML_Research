{
 "cells": [
  {
   "cell_type": "code",
   "execution_count": 1,
   "metadata": {},
   "outputs": [],
   "source": [
    "import pandas as pd\n",
    "import matplotlib.pyplot as plt\n",
    "import seaborn as sns\n",
    "import json"
   ]
  },
  {
   "cell_type": "code",
   "execution_count": 2,
   "metadata": {},
   "outputs": [],
   "source": [
    "def perform_eda(df):\n",
    "    # Check the structure of the DataFrame\n",
    "    print(\"DataFrame Info:\")\n",
    "    print(df.info())\n",
    "\n",
    "    # Check for missing values\n",
    "    print(\"\\nMissing Values:\")\n",
    "    print(df.isnull().sum())\n",
    "\n",
    "    # Descriptive statistics\n",
    "    print(\"\\nDescriptive Statistics:\")\n",
    "    print(df['text'].apply(len).describe())\n",
    "\n",
    "    # Add a column for text length\n",
    "    df['text_length'] = df['text'].apply(len)\n",
    "\n",
    "    # Distribution of text lengths\n",
    "    plt.figure(figsize=(10, 6))\n",
    "    sns.histplot(df['text_length'], bins=30, kde=True, color='blue')\n",
    "    plt.title('Distribution of Text Lengths')\n",
    "    plt.xlabel('Text Length')\n",
    "    plt.ylabel('Frequency')\n",
    "    plt.show()\n",
    "\n",
    "    # Longest and shortest texts\n",
    "    print(\"\\nLongest Text File:\")\n",
    "    print(df.loc[df['text_length'].idxmax(), 'file_name'])\n",
    "\n",
    "    print(\"\\nShortest Text File:\")\n",
    "    print(df.loc[df['text_length'].idxmin(), 'file_name'])\n",
    "\n",
    "    return df"
   ]
  }
 ],
 "metadata": {
  "kernelspec": {
   "display_name": "Python 3",
   "language": "python",
   "name": "python3"
  },
  "language_info": {
   "codemirror_mode": {
    "name": "ipython",
    "version": 3
   },
   "file_extension": ".py",
   "mimetype": "text/x-python",
   "name": "python",
   "nbconvert_exporter": "python",
   "pygments_lexer": "ipython3",
   "version": "3.12.4"
  }
 },
 "nbformat": 4,
 "nbformat_minor": 2
}
