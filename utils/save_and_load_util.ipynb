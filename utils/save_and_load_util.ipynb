{
 "cells": [
  {
   "cell_type": "code",
   "execution_count": 1,
   "metadata": {},
   "outputs": [],
   "source": [
    "import json"
   ]
  },
  {
   "cell_type": "code",
   "execution_count": 2,
   "metadata": {},
   "outputs": [],
   "source": [
    "def save_as_json(data, output_file):\n",
    "    \"\"\"\n",
    "    Save the extracted text data as a JSON file.\n",
    "    \n",
    "    Parameters:\n",
    "        data (dict): Dictionary containing file names and extracted text.\n",
    "        output_file (str): Path to save the JSON file.\n",
    "    \"\"\"\n",
    "    with open(output_file, 'w', encoding='utf-8') as file:\n",
    "        json.dump(data, file, ensure_ascii=False, indent=4)\n",
    "    print(f\"Data saved to {output_file}.\")"
   ]
  },
  {
   "cell_type": "code",
   "execution_count": 3,
   "metadata": {},
   "outputs": [],
   "source": [
    "def load_from_json(input_file):\n",
    "    \"\"\"\n",
    "    Load extracted text data from a JSON file.\n",
    "    \n",
    "    Parameters:\n",
    "        input_file (str): Path to the JSON file.\n",
    "    \n",
    "    Returns:\n",
    "        dict: Dictionary containing file names and extracted text.\n",
    "    \"\"\"\n",
    "    with open(input_file, 'r', encoding='utf-8') as file:\n",
    "        data = json.load(file)\n",
    "    print(f\"Data loaded from {input_file}.\")\n",
    "    return data"
   ]
  }
 ],
 "metadata": {
  "kernelspec": {
   "display_name": "Python 3",
   "language": "python",
   "name": "python3"
  },
  "language_info": {
   "codemirror_mode": {
    "name": "ipython",
    "version": 3
   },
   "file_extension": ".py",
   "mimetype": "text/x-python",
   "name": "python",
   "nbconvert_exporter": "python",
   "pygments_lexer": "ipython3",
   "version": "3.12.4"
  }
 },
 "nbformat": 4,
 "nbformat_minor": 2
}
