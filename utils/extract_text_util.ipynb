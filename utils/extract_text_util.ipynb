{
 "cells": [
  {
   "cell_type": "code",
   "execution_count": 3,
   "metadata": {},
   "outputs": [],
   "source": [
    "import os\n",
    "import time\n",
    "import pdfplumber\n",
    "from PyPDF2 import PdfReader\n",
    "import pandas as pd"
   ]
  },
  {
   "cell_type": "code",
   "execution_count": 4,
   "metadata": {},
   "outputs": [],
   "source": [
    "def extract_text_from_pdfs_with_progress(folder_path):\n",
    "    \"\"\"\n",
    "    Extract text from all PDF files in the given folder with a timer and progress tracking.\n",
    "    \n",
    "    Parameters:\n",
    "        folder_path (str): Path to the folder containing PDF files.\n",
    "    \n",
    "    Returns:\n",
    "        dict: A dictionary where keys are file names and values are extracted text.\n",
    "    \"\"\"\n",
    "    pdf_texts = {}\n",
    "    pdf_files = [f for f in os.listdir(folder_path) if f.endswith('.pdf')]\n",
    "    total_files = len(pdf_files)\n",
    "\n",
    "    if total_files == 0:\n",
    "        print(\"No PDF files found in the specified folder.\")\n",
    "        return pdf_texts\n",
    "\n",
    "    start_time = time.time()\n",
    "    print(f\"Processing {total_files} PDF files...\")\n",
    "\n",
    "    for idx, file_name in enumerate(pdf_files):\n",
    "        file_path = os.path.join(folder_path, file_name)\n",
    "        with pdfplumber.open(file_path) as pdf:\n",
    "            text = ''.join([page.extract_text() for page in pdf.pages])\n",
    "        pdf_texts[file_name] = text\n",
    "        \n",
    "        # Calculate and display progress\n",
    "        progress = ((idx + 1) / total_files) * 100\n",
    "        elapsed_time = time.time() - start_time\n",
    "        print(f\"[{progress:.2f}%] Completed {idx + 1}/{total_files} files. Elapsed time: {elapsed_time:.2f}s\")\n",
    "\n",
    "    print(\"All PDF files processed successfully.\")\n",
    "    return pdf_texts"
   ]
  },
  {
   "cell_type": "code",
   "execution_count": null,
   "metadata": {},
   "outputs": [],
   "source": [
    "def create_dataframe(pdf_data):\n",
    "    df = pd.DataFrame(pdf_data)\n",
    "    df['text_length'] = df['text'].apply(len)\n",
    "    return df"
   ]
  }
 ],
 "metadata": {
  "kernelspec": {
   "display_name": "Python 3",
   "language": "python",
   "name": "python3"
  },
  "language_info": {
   "codemirror_mode": {
    "name": "ipython",
    "version": 3
   },
   "file_extension": ".py",
   "mimetype": "text/x-python",
   "name": "python",
   "nbconvert_exporter": "python",
   "pygments_lexer": "ipython3",
   "version": "3.12.4"
  }
 },
 "nbformat": 4,
 "nbformat_minor": 2
}
